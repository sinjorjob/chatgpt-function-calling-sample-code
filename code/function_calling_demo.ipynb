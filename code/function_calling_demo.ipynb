{
 "cells": [
  {
   "cell_type": "code",
   "execution_count": 34,
   "id": "1ffa0ff3",
   "metadata": {},
   "outputs": [],
   "source": [
    "import openai\n",
    "import os\n",
    "import requests\n",
    "import sqlite3\n",
    "import json"
   ]
  },
  {
   "cell_type": "markdown",
   "id": "1814ac38",
   "metadata": {},
   "source": [
    "## SqliteDB接続"
   ]
  },
  {
   "cell_type": "code",
   "execution_count": 3,
   "id": "67d3334e",
   "metadata": {},
   "outputs": [
    {
     "name": "stdout",
     "output_type": "stream",
     "text": [
      "Opned database successfully\n"
     ]
    }
   ],
   "source": [
    "conn = sqlite3.connect(\"chinook.db\") \n",
    "print(\"Opned database successfully\")"
   ]
  },
  {
   "cell_type": "markdown",
   "id": "6391131e",
   "metadata": {},
   "source": [
    "## chinook.dbからテーブル情報を取得"
   ]
  },
  {
   "cell_type": "code",
   "execution_count": 7,
   "id": "1c22aeb7",
   "metadata": {},
   "outputs": [],
   "source": [
    "## dbから情報を収集する関数\n",
    "def get_table_names(conn):\n",
    "    \"\"\"テーブル名のリストを返す\"\"\"\n",
    "    table_names = []\n",
    "    tables = conn.execute(\"select name from sqlite_master where type='table';\")\n",
    "    for table in tables.fetchall():\n",
    "        table_names.append(table[0])\n",
    "    return table_names\n",
    "\n",
    "def get_column_names(conn, table_name):\n",
    "    \"\"\"テーブルのカラム名のリストを返す\"\"\"\n",
    "    column_names = []\n",
    "    columns = conn.execute(f\"PRAGMA table_info('{table_name}');\").fetchall()\n",
    "    for col in columns:\n",
    "        column_names.append(col[1])\n",
    "    return column_names\n",
    "\n",
    "def get_database_info(conn):\n",
    "    \"\"\"テーブル名とカラムの情報を辞書のリストで返す\"\"\"\n",
    "    table_dicts = []\n",
    "    for table_name in get_table_names(conn):\n",
    "        columns_names = get_column_names(conn, table_name)\n",
    "        table_dicts.append({\"table_name\": table_name, \"column_names\": columns_names})\n",
    "    return table_dicts"
   ]
  },
  {
   "cell_type": "code",
   "execution_count": 9,
   "id": "a399ebf1",
   "metadata": {},
   "outputs": [
    {
     "name": "stdout",
     "output_type": "stream",
     "text": [
      "Table: albums\n",
      "Columns: AlbumId, Title, ArtistId\n",
      "Table: sqlite_sequence\n",
      "Columns: name, seq\n",
      "Table: artists\n",
      "Columns: ArtistId, Name\n",
      "Table: customers\n",
      "Columns: CustomerId, FirstName, LastName, Company, Address, City, State, Country, PostalCode, Phone, Fax, Email, SupportRepId\n",
      "Table: employees\n",
      "Columns: EmployeeId, LastName, FirstName, Title, ReportsTo, BirthDate, HireDate, Address, City, State, Country, PostalCode, Phone, Fax, Email\n",
      "Table: genres\n",
      "Columns: GenreId, Name\n",
      "Table: invoices\n",
      "Columns: InvoiceId, CustomerId, InvoiceDate, BillingAddress, BillingCity, BillingState, BillingCountry, BillingPostalCode, Total\n",
      "Table: invoice_items\n",
      "Columns: InvoiceLineId, InvoiceId, TrackId, UnitPrice, Quantity\n",
      "Table: media_types\n",
      "Columns: MediaTypeId, Name\n",
      "Table: playlists\n",
      "Columns: PlaylistId, Name\n",
      "Table: playlist_track\n",
      "Columns: PlaylistId, TrackId\n",
      "Table: tracks\n",
      "Columns: TrackId, Name, AlbumId, MediaTypeId, GenreId, Composer, Milliseconds, Bytes, UnitPrice\n",
      "Table: sqlite_stat1\n",
      "Columns: tbl, idx, stat\n"
     ]
    }
   ],
   "source": [
    "database_schema_dict = get_database_info(conn)\n",
    "\n",
    "database_schema_string = \"\\n\".join(\n",
    "    f\"Table: {table['table_name']}\\nColumns: {', '.join(table['column_names'])}\"\n",
    "    for table in database_schema_dict\n",
    ")\n",
    "\n",
    "print(database_schema_string)"
   ]
  },
  {
   "cell_type": "markdown",
   "id": "fb8ca79f",
   "metadata": {},
   "source": [
    "# 会話情報を格納するクラスの定義"
   ]
  },
  {
   "cell_type": "code",
   "execution_count": 10,
   "id": "64380724",
   "metadata": {},
   "outputs": [],
   "source": [
    "class Conversation:\n",
    "    \n",
    "    # 会話履歴を空のリストで初期化\n",
    "    def __init__(self):\n",
    "        self.conversation_history = []\n",
    "        #self.add_message(\"system\", agent_system_message)\n",
    "        \n",
    "    # 会話履歴にメッセージを追加するメソッド    \n",
    "    def add_message(self, role, content):\n",
    "        message = {\"role\": role, \"content\":content}\n",
    "        self.conversation_history.append(message)"
   ]
  },
  {
   "cell_type": "markdown",
   "id": "89d2678e",
   "metadata": {},
   "source": [
    "# ChatGPTリクエスト関数の定義"
   ]
  },
  {
   "cell_type": "code",
   "execution_count": 30,
   "id": "b7a2d63c",
   "metadata": {},
   "outputs": [],
   "source": [
    "def chat_completion_request(messages, functions, model=\"gpt-3.5-turbo-0613\"):\n",
    "    openai.api_key = \"自分のコードをここに記載\"\n",
    "    try:\n",
    "        response = openai.ChatCompletion.create(\n",
    "            model=model,\n",
    "            messages=messages,\n",
    "            functions= functions,\n",
    "            function_call=\"auto\",\n",
    "        )\n",
    "        return response\n",
    "    except Exception as e:\n",
    "        print(\"Unable to generate ChatCompletion response1\")\n",
    "        print(f\"Exception:{e}\")\n",
    "        return e\n",
    "    \n",
    "    \n",
    "def ask_database(conn, query):\n",
    "    \"\"\"\n",
    "    指定されたSQLクエリでSQliteデータベースに問い合わせを行う関数。\n",
    "    \n",
    "    Return:\n",
    "    conn(sqlite3.Connection):SQLiteデータベースへの接続オブジェクト。\n",
    "    query(str):データベースに対して実行するSQLクエリを含む文字列。\n",
    "    \n",
    "    Return:\n",
    "    list:  クエリの結果を含むタプルのリスト。\n",
    "    \n",
    "    Raises:\n",
    "    Exception:SQLクエリーの実行に問題があった場合。\n",
    "    \"\"\"\n",
    "    try:\n",
    "        # 与えられたSQLiteデータベース接続オブジェクトに対してSQLクエリを実行し、すべての結果を取得\n",
    "        results = conn.execute(query).fetchall()\n",
    "        return results\n",
    "    except Exception as e:\n",
    "        # SQLクエリの実行に失敗した場合、エラーメッセージとともに例外を発生\n",
    "        raise Exception(f\"SQL error: {e}\")\n",
    "\n",
    "\n",
    "\n",
    "def chat_completion_with_function_execution(messages, functions):\n",
    "   \"\"\"\n",
    "   この関数はChatCompletion APIコールを行い、関数コールが要求された場合、その関数を実行する。\n",
    "   \n",
    "   Parameters:\n",
    "   messages(list): 会話履歴を表す文字列のリスト\n",
    "   functions(list): モデルから呼び出すことができる関数を表す辞書のリスト（オプション）\n",
    "   \n",
    "   Return:\n",
    "   dict: ChatCompletion API呼び出しによるレスポンス、または関数呼び出しの結果を含む辞書。\n",
    "   \"\"\" \n",
    "   \n",
    "   try:\n",
    "       response = chat_completion_request(messages, functions)\n",
    "       #full_message = response.json()[\"choices\"][0]\n",
    "       full_message = response[\"choices\"][0]\n",
    "       print(\"full_message=\", full_message)\n",
    "       if full_message[\"finish_reason\"] == \"function_call\":\n",
    "           print(f\"Function generation requested, calling function\")\n",
    "           return call_function(messages, full_message,functions)\n",
    "       else:\n",
    "           print(f\"function not required, responding to user\")\n",
    "           #return response.json()\n",
    "           return response\n",
    "    \n",
    "   except Exception as e:\n",
    "       print(\"Unable to generate ChatCompletion response2\")\n",
    "       print(f\"Exception:{e}\")\n",
    "       return e\n",
    "\n",
    "\n",
    "\n",
    "def call_function(messages, full_message,functions):\n",
    "    \"\"\"\n",
    "    excecutes function calls using model generated function arguments.\n",
    "    \"\"\"\n",
    "    if full_message[\"message\"][\"function_call\"][\"name\"] == \"ask_database\":\n",
    "        query = eval(full_message[\"message\"][\"function_call\"][\"arguments\"])\n",
    "        print(f\"Prepped query is {query}\")\n",
    "        print(\"query['query']=\", query[\"query\"])\n",
    "        try:\n",
    "            conn = sqlite3.connect(\"../db/chinook.db\") \n",
    "            results = ask_database(conn, query[\"query\"])\n",
    "        except Exception as e:\n",
    "            print(e)\n",
    "            \n",
    "            # if there is an error in the query, try to fix it with a subsequent call\n",
    "            messages.append(\n",
    "                {\n",
    "                    \"role\": \"system\",\n",
    "                    \"content\": f\"\"\"Query: {query['query']}\n",
    "                    The previous query received the error {e}.\n",
    "                    Please return a fixed SQL query in plain text.\n",
    "                    Your response should consist of ONLY the SQL query with the separator sql_start at the beginning and sql_end at the end\"\"\",\n",
    "                }\n",
    "            )\n",
    "            response = chat_completion_request(messages, functions)\n",
    "            try:\n",
    "                cleaned_query = response[\"choices\"][0][\"message\"][\"content\"].split(\"sql_start\")[1]\n",
    "                cleaned_query = cleaned_query.split(\"sql_end\")[0]\n",
    "                print(cleaned_query)\n",
    "                results = ask_database(conn, cleaned_query)\n",
    "                print(results)\n",
    "                print(\"Got on second try\")\n",
    "            except Exception as e:\n",
    "                print(\"Second failure, exiting\")\n",
    "                print(f\"Function execution failed\")\n",
    "                print(f\"Error message: {e}\")\n",
    "                \n",
    "        messages.append(\n",
    "            {\"role\": \"function\", \"name\": \"ask_database\", \"content\": str(results)}\n",
    "        )\n",
    "        try:\n",
    "            response = chat_completion_request(messages, functions)\n",
    "            return response\n",
    "        except Exception as e:\n",
    "            print(type(e))\n",
    "            print(e)\n",
    "            raise Exception(\"Function chat request failed\")\n",
    "\n",
    "    elif full_message[\"message\"][\"function_call\"][\"name\"] == \"ask_weather\":\n",
    "\n",
    "        query = eval(full_message[\"message\"][\"function_call\"][\"arguments\"])\n",
    "\n",
    "        print(\"query['query']=\", query[\"query\"])\n",
    "        try:\n",
    "            results = ask_weather(query[\"query\"])\n",
    "        except Exception as e:\n",
    "            print(e)\n",
    "            \n",
    "        messages.append(\n",
    "            {\"role\": \"function\", \"name\": \"ask_weather\", \"content\": str(results)}\n",
    "        )\n",
    "        try:\n",
    "            response = chat_completion_request(messages, functions)\n",
    "            return response\n",
    "        except Exception as e:\n",
    "            print(type(e))\n",
    "            print(e)\n",
    "            raise Exception(\"Function chat request failed\")        \n",
    "    else:\n",
    "        raise Exception(\"Function does not exist and cannot be called\")"
   ]
  },
  {
   "cell_type": "markdown",
   "id": "94c39cff",
   "metadata": {},
   "source": [
    "# Functionの定義"
   ]
  },
  {
   "cell_type": "code",
   "execution_count": 28,
   "id": "0f4afa2a",
   "metadata": {},
   "outputs": [],
   "source": [
    "# データベーススキーマを関数に挿入していることに注意。\n",
    "# これはモデルが知るべき重要な情報 \n",
    "functions=[\n",
    "    {\n",
    "        \"name\": \"ask_database\",\n",
    "        \"description\": \"この関数を使用して、音楽に関するユーザーの質問に答えます。出力は完全に形成されたSQLクエリでなければなりません。\",\n",
    "        \"parameters\": {\n",
    "            \"type\": \"object\",\n",
    "            \"properties\": {\n",
    "                \"query\": {\n",
    "                    \"type\": \"string\",\n",
    "                    \"description\": f\"\"\"\n",
    "                        ユーザーの質問に答えるための情報を抽出するSQLクエリ。\n",
    "                        SQLは、以下のデータベーススキーマを使って書かなければならない：\n",
    "                        データベーススキーマ：{database_schema_string}\n",
    "                        クエリーはJSONではなく、プレーンテキストで返す必要があります。\n",
    "                    \"\"\",\n",
    "                },\n",
    "            },\n",
    "            \"required\": [\"query\"],\n",
    "        },\n",
    "    },\n",
    "\n",
    "    {\n",
    "        \"name\": \"ask_weather\",\n",
    "        \"description\": \"この関数を使用して特定の都市の天気情報の質問に答えます。都市名のプレーンテキストでなければなりません。\",\n",
    "        \"parameters\": {\n",
    "            \"type\": \"object\",\n",
    "            \"properties\": {\n",
    "                \"query\": {\n",
    "                    \"type\": \"string\",\n",
    "                    \"description\": f\"\"\"\n",
    "                        ユーザーの質問に答えるため、知りたい天気情報の都市名を返さなければならない。\n",
    "                        例：\n",
    "                        【質問】：「東京都のお天気情報を教えてください。」\n",
    "                        【回答】：東京都\n",
    "                    \"\"\",\n",
    "                },\n",
    "            },\n",
    "            \"required\": [\"query\"],\n",
    "        },\n",
    "    },\n",
    "\n",
    "]"
   ]
  },
  {
   "cell_type": "code",
   "execution_count": 22,
   "id": "42d99df8",
   "metadata": {},
   "outputs": [
    {
     "data": {
      "text/plain": [
       "[]"
      ]
     },
     "execution_count": 22,
     "metadata": {},
     "output_type": "execute_result"
    }
   ],
   "source": [
    "sql_conversation = Conversation()\n",
    "sql_conversation.conversation_history"
   ]
  },
  {
   "cell_type": "code",
   "execution_count": 23,
   "id": "21ce5dab",
   "metadata": {},
   "outputs": [
    {
     "data": {
      "text/plain": [
       "[{'role': 'user', 'content': '2009年のInvoiceデータは何件ありますか？'}]"
      ]
     },
     "execution_count": 23,
     "metadata": {},
     "output_type": "execute_result"
    }
   ],
   "source": [
    "sql_conversation.add_message(\"user\", \"2009年のInvoiceデータは何件ありますか？\") \n",
    "sql_conversation.conversation_history"
   ]
  },
  {
   "cell_type": "code",
   "execution_count": 24,
   "id": "1e11e2be",
   "metadata": {},
   "outputs": [
    {
     "name": "stdout",
     "output_type": "stream",
     "text": [
      "full_message= {\n",
      "  \"index\": 0,\n",
      "  \"message\": {\n",
      "    \"role\": \"assistant\",\n",
      "    \"content\": null,\n",
      "    \"function_call\": {\n",
      "      \"name\": \"ask_database\",\n",
      "      \"arguments\": \"{\\n  \\\"query\\\": \\\"SELECT COUNT(*) FROM invoices WHERE InvoiceDate LIKE '2009%'\\\"\\n}\"\n",
      "    }\n",
      "  },\n",
      "  \"finish_reason\": \"function_call\"\n",
      "}\n",
      "Function generation requested, calling function\n",
      "Prepped query is {'query': \"SELECT COUNT(*) FROM invoices WHERE InvoiceDate LIKE '2009%'\"}\n",
      "query['query']= SELECT COUNT(*) FROM invoices WHERE InvoiceDate LIKE '2009%'\n"
     ]
    }
   ],
   "source": [
    "chat_response = chat_completion_with_function_execution(sql_conversation.conversation_history, functions)  "
   ]
  },
  {
   "cell_type": "code",
   "execution_count": 25,
   "id": "f05613bd",
   "metadata": {},
   "outputs": [
    {
     "name": "stdout",
     "output_type": "stream",
     "text": [
      "2009年のInvoiceデータは83件あります。\n"
     ]
    }
   ],
   "source": [
    "try:\n",
    "    assistant_message = chat_response[\"choices\"][0][\"message\"][\"content\"]\n",
    "    print(assistant_message)\n",
    "except Exception as e:\n",
    "    print(e)\n",
    "    print(chat_response)"
   ]
  },
  {
   "cell_type": "code",
   "execution_count": 27,
   "id": "0c039469",
   "metadata": {},
   "outputs": [
    {
     "name": "stdout",
     "output_type": "stream",
     "text": [
      "full_message= {\n",
      "  \"index\": 0,\n",
      "  \"message\": {\n",
      "    \"role\": \"assistant\",\n",
      "    \"content\": null,\n",
      "    \"function_call\": {\n",
      "      \"name\": \"ask_database\",\n",
      "      \"arguments\": \"{\\n  \\\"query\\\": \\\"SELECT tracks.Name AS TrackName, albums.Title AS AlbumTitle, artists.Name AS ArtistName, tracks.UnitPrice, SUM(invoice_items.Quantity) AS TotalQuantity, SUM(invoice_items.Quantity * invoice_items.UnitPrice) AS TotalRevenue FROM tracks JOIN albums ON tracks.AlbumId = albums.AlbumId JOIN artists ON albums.ArtistId = artists.ArtistId JOIN invoice_items ON tracks.TrackId = invoice_items.TrackId GROUP BY tracks.TrackId ORDER BY TotalRevenue DESC LIMIT 3;\\\"\\n}\"\n",
      "    }\n",
      "  },\n",
      "  \"finish_reason\": \"function_call\"\n",
      "}\n",
      "Function generation requested, calling function\n",
      "Prepped query is {'query': 'SELECT tracks.Name AS TrackName, albums.Title AS AlbumTitle, artists.Name AS ArtistName, tracks.UnitPrice, SUM(invoice_items.Quantity) AS TotalQuantity, SUM(invoice_items.Quantity * invoice_items.UnitPrice) AS TotalRevenue FROM tracks JOIN albums ON tracks.AlbumId = albums.AlbumId JOIN artists ON albums.ArtistId = artists.ArtistId JOIN invoice_items ON tracks.TrackId = invoice_items.TrackId GROUP BY tracks.TrackId ORDER BY TotalRevenue DESC LIMIT 3;'}\n",
      "query['query']= SELECT tracks.Name AS TrackName, albums.Title AS AlbumTitle, artists.Name AS ArtistName, tracks.UnitPrice, SUM(invoice_items.Quantity) AS TotalQuantity, SUM(invoice_items.Quantity * invoice_items.UnitPrice) AS TotalRevenue FROM tracks JOIN albums ON tracks.AlbumId = albums.AlbumId JOIN artists ON albums.ArtistId = artists.ArtistId JOIN invoice_items ON tracks.TrackId = invoice_items.TrackId GROUP BY tracks.TrackId ORDER BY TotalRevenue DESC LIMIT 3;\n",
      "売上が一番多いTOP3の商品情報は以下の通りです：\n",
      "\n",
      "1. 商品名: The Woman King\n",
      "   アルバム: Battlestar Galactica, Season 3\n",
      "   アーティスト: Battlestar Galactica\n",
      "   単価: 1.99\n",
      "   数量: 2\n",
      "   売上: 3.98\n",
      "\n",
      "2. 商品名: The Fix\n",
      "   アルバム: Heroes, Season 1\n",
      "   アーティスト: Heroes\n",
      "   単価: 1.99\n",
      "   数量: 2\n",
      "   売上: 3.98\n",
      "\n",
      "3. 商品名: Walkabout\n",
      "   アルバム: Lost, Season 1\n",
      "   アーティスト: Lost\n",
      "   単価: 1.99\n",
      "   数量: 2\n",
      "   売上: 3.98\n",
      "\n",
      "以上が売上が一番多いTOP3の商品情報です。\n"
     ]
    }
   ],
   "source": [
    "sql_conversation = Conversation()\n",
    "sql_conversation.add_message(\"user\", \"売上が一番多いTOP3の商品情報を教えてください。\") \n",
    "chat_response = chat_completion_with_function_execution(sql_conversation.conversation_history, functions)\n",
    "try:\n",
    "    assistant_message = chat_response[\"choices\"][0][\"message\"][\"content\"]\n",
    "    print(assistant_message)\n",
    "except Exception as e:\n",
    "    print(e)\n",
    "    print(chat_response)"
   ]
  },
  {
   "cell_type": "markdown",
   "id": "cfcd2518",
   "metadata": {},
   "source": [
    "# 天気情報機能の追加"
   ]
  },
  {
   "cell_type": "code",
   "execution_count": 31,
   "id": "465263ee",
   "metadata": {},
   "outputs": [],
   "source": [
    "def ask_weather(query):\n",
    "    try:\n",
    "        response = requests.get(\"https://api.openweathermap.org/data/2.5/weather\",\n",
    "        params={\n",
    "            \"q\": query,\n",
    "\n",
    "            \"appid\": \"自分のコードをここに記載\",\n",
    "            \"units\": \"metric\",\n",
    "            \"lang\": \"ja\",\n",
    "               }\n",
    "             )\n",
    "        response = json.loads(response.text)\n",
    "        description = response['weather'][0]['description']\n",
    "        temp_min = response['main']['temp_min']\n",
    "        temp_max = response['main']['temp_max']\n",
    "        return \"{}の天気は{}です。最低気温は{}℃で、最大気温は{}℃です。\".format(query,description,temp_min,temp_max)\n",
    "      \n",
    "    except Exception as e:\n",
    "        # API実行に失敗した場合、エラーメッセージとともに例外を発生\n",
    "        raise Exception(f\"Wheather API error: {e}\")"
   ]
  },
  {
   "cell_type": "code",
   "execution_count": 35,
   "id": "6319800d",
   "metadata": {},
   "outputs": [
    {
     "name": "stdout",
     "output_type": "stream",
     "text": [
      "full_message= {\n",
      "  \"index\": 0,\n",
      "  \"message\": {\n",
      "    \"role\": \"assistant\",\n",
      "    \"content\": null,\n",
      "    \"function_call\": {\n",
      "      \"name\": \"ask_weather\",\n",
      "      \"arguments\": \"{\\n  \\\"query\\\": \\\"\\u6771\\u4eac\\u90fd\\\"\\n}\"\n",
      "    }\n",
      "  },\n",
      "  \"finish_reason\": \"function_call\"\n",
      "}\n",
      "Function generation requested, calling function\n",
      "query['query']= 東京都\n",
      "東京都の今日の天気は雲です。最低気温は25.79℃で、最高気温は29.88℃です。\n"
     ]
    }
   ],
   "source": [
    "sql_conversation = Conversation() \n",
    "sql_conversation.add_message(\"user\", \"東京都の今日の天気を教えてください。\") \n",
    "chat_response = chat_completion_with_function_execution(sql_conversation.conversation_history, functions)\n",
    "try:\n",
    "    assistant_message = chat_response[\"choices\"][0][\"message\"][\"content\"]\n",
    "    print(assistant_message)\n",
    "except Exception as e:\n",
    "    print(e)\n",
    "    print(chat_response)"
   ]
  },
  {
   "cell_type": "code",
   "execution_count": null,
   "id": "0ee621d2",
   "metadata": {},
   "outputs": [],
   "source": []
  }
 ],
 "metadata": {
  "kernelspec": {
   "display_name": "Python 3 (ipykernel)",
   "language": "python",
   "name": "python3"
  },
  "language_info": {
   "codemirror_mode": {
    "name": "ipython",
    "version": 3
   },
   "file_extension": ".py",
   "mimetype": "text/x-python",
   "name": "python",
   "nbconvert_exporter": "python",
   "pygments_lexer": "ipython3",
   "version": "3.8.3"
  }
 },
 "nbformat": 4,
 "nbformat_minor": 5
}
